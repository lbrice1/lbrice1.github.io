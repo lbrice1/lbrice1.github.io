{
 "cells": [
  {
   "cell_type": "markdown",
   "metadata": {},
   "source": [
    "# Leaflet cluster map of talk locations\n",
    "\n",
    "Run this from the _talks/ directory, which contains .md files of all your talks. This scrapes the location YAML field from each .md file, geolocates it with geopy/Nominatim, and uses the getorg library to output data, HTML, and Javascript for a standalone cluster map."
   ]
  },
  {
   "cell_type": "code",
   "execution_count": 11,
   "metadata": {},
   "outputs": [
    {
     "name": "stdout",
     "output_type": "stream",
     "text": [
      "Requirement already satisfied: getorg in c:\\users\\lbrice1\\anaconda3\\envs\\labm\\lib\\site-packages (0.3.1)\n",
      "Requirement already satisfied: geopy in c:\\users\\lbrice1\\anaconda3\\envs\\labm\\lib\\site-packages (from getorg) (2.1.0)\n",
      "Requirement already satisfied: retrying in c:\\users\\lbrice1\\anaconda3\\envs\\labm\\lib\\site-packages (from getorg) (1.3.3)\n",
      "Requirement already satisfied: pygithub in c:\\users\\lbrice1\\anaconda3\\envs\\labm\\lib\\site-packages (from getorg) (1.55)\n",
      "Requirement already satisfied: geographiclib<2,>=1.49 in c:\\users\\lbrice1\\anaconda3\\envs\\labm\\lib\\site-packages (from geopy->getorg) (1.52)\n",
      "Requirement already satisfied: requests>=2.14.0 in c:\\users\\lbrice1\\anaconda3\\envs\\labm\\lib\\site-packages (from pygithub->getorg) (2.24.0)\n",
      "Requirement already satisfied: pyjwt>=2.0 in c:\\users\\lbrice1\\anaconda3\\envs\\labm\\lib\\site-packages (from pygithub->getorg) (2.1.0)\n",
      "Requirement already satisfied: pynacl>=1.4.0 in c:\\users\\lbrice1\\anaconda3\\envs\\labm\\lib\\site-packages (from pygithub->getorg) (1.4.0)\n",
      "Requirement already satisfied: deprecated in c:\\users\\lbrice1\\anaconda3\\envs\\labm\\lib\\site-packages (from pygithub->getorg) (1.2.12)\n",
      "Requirement already satisfied: cffi>=1.4.1 in c:\\users\\lbrice1\\anaconda3\\envs\\labm\\lib\\site-packages (from pynacl>=1.4.0->pygithub->getorg) (1.14.0)\n",
      "Requirement already satisfied: six in c:\\users\\lbrice1\\anaconda3\\envs\\labm\\lib\\site-packages (from pynacl>=1.4.0->pygithub->getorg) (1.15.0)\n",
      "Requirement already satisfied: pycparser in c:\\users\\lbrice1\\anaconda3\\envs\\labm\\lib\\site-packages (from cffi>=1.4.1->pynacl>=1.4.0->pygithub->getorg) (2.20)\n",
      "Requirement already satisfied: urllib3!=1.25.0,!=1.25.1,<1.26,>=1.21.1 in c:\\users\\lbrice1\\anaconda3\\envs\\labm\\lib\\site-packages (from requests>=2.14.0->pygithub->getorg) (1.25.9)\n",
      "Requirement already satisfied: certifi>=2017.4.17 in c:\\users\\lbrice1\\anaconda3\\envs\\labm\\lib\\site-packages (from requests>=2.14.0->pygithub->getorg) (2020.12.5)\n",
      "Requirement already satisfied: chardet<4,>=3.0.2 in c:\\users\\lbrice1\\anaconda3\\envs\\labm\\lib\\site-packages (from requests>=2.14.0->pygithub->getorg) (3.0.4)\n",
      "Requirement already satisfied: idna<3,>=2.5 in c:\\users\\lbrice1\\anaconda3\\envs\\labm\\lib\\site-packages (from requests>=2.14.0->pygithub->getorg) (2.10)\n",
      "Requirement already satisfied: wrapt<2,>=1.10 in c:\\users\\lbrice1\\anaconda3\\envs\\labm\\lib\\site-packages (from deprecated->pygithub->getorg) (1.12.1)\n"
     ]
    }
   ],
   "source": [
    "!pip install getorg --upgrade\n",
    "import glob\n",
    "import getorg\n",
    "from geopy import Nominatim"
   ]
  },
  {
   "cell_type": "code",
   "execution_count": 12,
   "metadata": {},
   "outputs": [],
   "source": [
    "g = glob.glob(\"*.md\")"
   ]
  },
  {
   "cell_type": "code",
   "execution_count": 14,
   "metadata": {},
   "outputs": [],
   "source": [
    "geocoder = Nominatim(user_agent=\"talkmap\")\n",
    "location_dict = {}\n",
    "location = \"\"\n",
    "permalink = \"\"\n",
    "title = \"\""
   ]
  },
  {
   "cell_type": "code",
   "execution_count": 17,
   "metadata": {},
   "outputs": [
    {
     "name": "stdout",
     "output_type": "stream",
     "text": [
      "Guayaquil, Ecuador \n",
      " Guayaquil, Ecuador\n",
      "Bogota, Colombia \n",
      " Bogotá, Bogotá Distrito Capital, Región Andina, 11001, Colombia\n",
      "San Pedro de Montes de Oca, San Jose, Costa Rica \n",
      " San Pedro, Cantón Montes de Oca, Provincia San José, 11501, Costa Rica\n",
      "Istanbul, Turkey \n",
      " İstanbul, Fatih, İstanbul, Marmara Bölgesi, 34126, Türkiye\n"
     ]
    }
   ],
   "source": [
    "\n",
    "for file in g:\n",
    "    with open(file, 'r') as f:\n",
    "        lines = f.read()\n",
    "        if lines.find('location: \"') > 1:\n",
    "            loc_start = lines.find('location: \"') + 11\n",
    "            lines_trim = lines[loc_start:]\n",
    "            loc_end = lines_trim.find('\"')\n",
    "            location = lines_trim[:loc_end]\n",
    "                            \n",
    "           \n",
    "        location_dict[location] = geocoder.geocode(location)\n",
    "        print(location, \"\\n\", location_dict[location])\n"
   ]
  },
  {
   "cell_type": "code",
   "execution_count": 18,
   "metadata": {},
   "outputs": [
    {
     "data": {
      "text/plain": [
       "'Written map to ../talkmap/'"
      ]
     },
     "execution_count": 18,
     "metadata": {},
     "output_type": "execute_result"
    }
   ],
   "source": [
    "m = getorg.orgmap.create_map_obj()\n",
    "getorg.orgmap.output_html_cluster_map(location_dict, folder_name=\"../talkmap\", hashed_usernames=False)"
   ]
  },
  {
   "cell_type": "code",
   "execution_count": null,
   "metadata": {
    "collapsed": true
   },
   "outputs": [],
   "source": []
  }
 ],
 "metadata": {
  "anaconda-cloud": {},
  "interpreter": {
   "hash": "dcc9f8b6bff611495d57d096ae84a6455e6d0f925e26ba01c2e486833336a42b"
  },
  "kernelspec": {
   "display_name": "Python 3",
   "language": "python",
   "name": "python3"
  },
  "language_info": {
   "codemirror_mode": {
    "name": "ipython",
    "version": 3
   },
   "file_extension": ".py",
   "mimetype": "text/x-python",
   "name": "python",
   "nbconvert_exporter": "python",
   "pygments_lexer": "ipython3",
   "version": "3.8.3"
  }
 },
 "nbformat": 4,
 "nbformat_minor": 1
}
